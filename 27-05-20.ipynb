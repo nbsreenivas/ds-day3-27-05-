{
 "cells": [
  {
   "cell_type": "markdown",
   "metadata": {},
   "source": [
    "headings:\n"
   ]
  },
  {
   "cell_type": "markdown",
   "metadata": {},
   "source": [
    "# python programming\n",
    "## python programming\n",
    "### python programming\n",
    "#### python programming"
   ]
  },
  {
   "cell_type": "code",
   "execution_count": 1,
   "metadata": {},
   "outputs": [
    {
     "name": "stdout",
     "output_type": "stream",
     "text": [
      "hello\n"
     ]
    }
   ],
   "source": [
    "print(\"hello\")"
   ]
  },
  {
   "cell_type": "code",
   "execution_count": 2,
   "metadata": {},
   "outputs": [
    {
     "name": "stdout",
     "output_type": "stream",
     "text": [
      "hey hii\n"
     ]
    }
   ],
   "source": [
    "print(\"hey hii\")"
   ]
  },
  {
   "cell_type": "markdown",
   "metadata": {},
   "source": [
    "### list of prgramming (ordered list)\n",
    "1. python\n",
    "2. java\n",
    "3. c\n",
    "4. c++\n"
   ]
  },
  {
   "cell_type": "markdown",
   "metadata": {},
   "source": [
    "### list of prgramming (unordered list)\n",
    "- python\n",
    "- java\n",
    "- c\n",
    "- c++"
   ]
  },
  {
   "cell_type": "markdown",
   "metadata": {},
   "source": [
    "### list of prgramming (unordered list)\n",
    "- python\n",
    "     - core python\n",
    "     - adv python\n",
    "- java\n",
    "- c\n",
    "- c++"
   ]
  },
  {
   "cell_type": "markdown",
   "metadata": {},
   "source": [
    "- **python programming**\n",
    "- *python programming*"
   ]
  },
  {
   "cell_type": "markdown",
   "metadata": {},
   "source": [
    "[click here for documentation](http://localhost:8888/notebooks/Desktop/datascience/ds-python/27-05-20.ipynb)"
   ]
  },
  {
   "cell_type": "markdown",
   "metadata": {},
   "source": [
    "![image](https://cdn.pixabay.com/photo/2015/04/23/22/00/tree-736885_1280.jpg)"
   ]
  },
  {
   "cell_type": "markdown",
   "metadata": {},
   "source": [
    "<img src=\"https://cdn.pixabay.com/photo/2015/04/23/22/00/tree-736885_1280.jpg\" width=200 height=200>"
   ]
  },
  {
   "cell_type": "markdown",
   "metadata": {},
   "source": [
    "# Numeric Data types\n",
    " 1. int\n",
    " 2. float \n",
    " 3. complex"
   ]
  },
  {
   "cell_type": "code",
   "execution_count": 4,
   "metadata": {},
   "outputs": [
    {
     "name": "stdout",
     "output_type": "stream",
     "text": [
      "<class 'int'> <class 'float'> <class 'complex'>\n"
     ]
    }
   ],
   "source": [
    "a = 10 # integer\n",
    "b = 23.34 #float\n",
    "c = 12+3j #complex number\n",
    "print(type(a),type(b),type(c))"
   ]
  },
  {
   "cell_type": "code",
   "execution_count": 7,
   "metadata": {},
   "outputs": [
    {
     "name": "stdout",
     "output_type": "stream",
     "text": [
      "(10+13j)\n",
      "6.0\n",
      "8.0\n"
     ]
    }
   ],
   "source": [
    "c1 = 4+5j\n",
    "c2 = complex(6,8)\n",
    "print(c1+c2)\n",
    "print(c2.real)# real part of the complex number\n",
    "print(c2.imag)# real part of the complex number"
   ]
  },
  {
   "cell_type": "code",
   "execution_count": 13,
   "metadata": {},
   "outputs": [
    {
     "name": "stdout",
     "output_type": "stream",
     "text": [
      "enter the value of a10\n",
      "enter the value of b20\n",
      "30 -10,200,0.5\n"
     ]
    }
   ],
   "source": [
    "#input and output fuctions\n",
    "#input --> input()\n",
    "#output --> print()\n",
    "a = int(input(\"enter the value of a\"))\n",
    "b= int(input(\"enter the value of b\"))\n",
    "#end-->new line\n",
    "#sep-->space\n",
    "print(a+b,end=\" \")\n",
    "print(a-b,a*b,a/b,sep=\",\")\n"
   ]
  },
  {
   "cell_type": "markdown",
   "metadata": {},
   "source": [
    "## operators:which perform specific task\n",
    "## operands:value gven to operator are known as operands"
   ]
  },
  {
   "cell_type": "code",
   "execution_count": 14,
   "metadata": {},
   "outputs": [
    {
     "name": "stdout",
     "output_type": "stream",
     "text": [
      "enter a value2\n",
      "enter b value3\n",
      "5\n",
      "-1\n",
      "6\n",
      "0.6666666666666666\n",
      "0\n",
      "8\n"
     ]
    }
   ],
   "source": [
    "# arithmetic operator :+,-,*,/,//,%,**\n",
    "\n",
    "a= int (input(\"enter a value\"))\n",
    "b= int (input(\"enter b value\"))\n",
    "print(a+b)\n",
    "print(a- b)\n",
    "print(a *b)\n",
    "print(a/ b)\n",
    "print(a //b)\n",
    "print(a** b)\n"
   ]
  },
  {
   "cell_type": "code",
   "execution_count": 15,
   "metadata": {},
   "outputs": [
    {
     "name": "stdout",
     "output_type": "stream",
     "text": [
      "enter a value4\n",
      "enter b value8\n",
      "False\n",
      "True\n",
      "False\n",
      "True\n",
      "False\n",
      "True\n"
     ]
    }
   ],
   "source": [
    "# relationaloperators:<,>,<=,>=,==,!=\n",
    "a= int(input(\"enter a value\"))\n",
    "b=int((input(\"enter b value\")))\n",
    "print(a>b)\n",
    "print(a< b)\n",
    "print(a>= b)\n",
    "print(a<= b)\n",
    "print(a== b)\n",
    "print(a!= b)"
   ]
  },
  {
   "cell_type": "code",
   "execution_count": 17,
   "metadata": {},
   "outputs": [
    {
     "name": "stdout",
     "output_type": "stream",
     "text": [
      "\n",
      "Here is a list of the Python keywords.  Enter any keyword to get more help.\n",
      "\n",
      "False               class               from                or\n",
      "None                continue            global              pass\n",
      "True                def                 if                  raise\n",
      "and                 del                 import              return\n",
      "as                  elif                in                  try\n",
      "assert              else                is                  while\n",
      "async               except              lambda              with\n",
      "await               finally             nonlocal            yield\n",
      "break               for                 not                 \n",
      "\n",
      "None\n"
     ]
    }
   ],
   "source": [
    "# logical operators: and ,or,not\n",
    "print(help(\"keywords\"))"
   ]
  },
  {
   "cell_type": "code",
   "execution_count": 18,
   "metadata": {},
   "outputs": [
    {
     "name": "stdout",
     "output_type": "stream",
     "text": [
      "True\n"
     ]
    }
   ],
   "source": [
    "print(a<b and a>1)"
   ]
  },
  {
   "cell_type": "code",
   "execution_count": 19,
   "metadata": {},
   "outputs": [
    {
     "name": "stdout",
     "output_type": "stream",
     "text": [
      "True\n"
     ]
    }
   ],
   "source": [
    "print(a<b or a>5)"
   ]
  },
  {
   "cell_type": "code",
   "execution_count": 22,
   "metadata": {},
   "outputs": [
    {
     "name": "stdout",
     "output_type": "stream",
     "text": [
      "False\n"
     ]
    }
   ],
   "source": [
    "print(not a<b)"
   ]
  },
  {
   "cell_type": "code",
   "execution_count": 24,
   "metadata": {},
   "outputs": [
    {
     "name": "stdout",
     "output_type": "stream",
     "text": [
      "True\n",
      "True\n"
     ]
    }
   ],
   "source": [
    "# member ship operators : in ,notin\n",
    "list1=[12,23,34,45,56,67]\n",
    "print(12 in list1)\n",
    "print(120 not in list1)"
   ]
  },
  {
   "cell_type": "code",
   "execution_count": 26,
   "metadata": {},
   "outputs": [
    {
     "name": "stdout",
     "output_type": "stream",
     "text": [
      "a is less than b\n"
     ]
    }
   ],
   "source": [
    "# conditional statements:if,else,elif\n",
    "if a<b:\n",
    "    print(\"a is less than b\")\n",
    "elif a>b:\n",
    "    print(\"a is greater than b\")\n",
    "else:\n",
    "    print(\"a or equals to b\")\n"
   ]
  },
  {
   "cell_type": "code",
   "execution_count": 28,
   "metadata": {},
   "outputs": [
    {
     "ename": "SyntaxError",
     "evalue": "invalid syntax (<ipython-input-28-5371fa8ceaac>, line 6)",
     "output_type": "error",
     "traceback": [
      "\u001b[1;36m  File \u001b[1;32m\"<ipython-input-28-5371fa8ceaac>\"\u001b[1;36m, line \u001b[1;32m6\u001b[0m\n\u001b[1;33m    print(\"largest is a:\"a)\u001b[0m\n\u001b[1;37m                         ^\u001b[0m\n\u001b[1;31mSyntaxError\u001b[0m\u001b[1;31m:\u001b[0m invalid syntax\n"
     ]
    }
   ],
   "source": [
    "a=int(input(\"enter a value\"))\n",
    "b=int(input(\"enter b value\"))\n",
    "c=int(input(\"enter c  value\"))\n",
    "if a>b and a>c:\n",
    "    print(\"largest is a\":a)\n",
    "elif b>c:\n",
    "    print(\"largest is b:\" b)\n",
    "else:\n",
    "    print(\"largest is c:\"c)"
   ]
  },
  {
   "cell_type": "code",
   "execution_count": 29,
   "metadata": {},
   "outputs": [
    {
     "name": "stdout",
     "output_type": "stream",
     "text": [
      "enter n value6\n",
      "1\n",
      "2\n",
      "3\n",
      "4\n",
      "5\n",
      "6\n"
     ]
    }
   ],
   "source": [
    "# loops : while ,for\n",
    "#print 1 to n values\n",
    "n=int(input(\"enter n value\"))\n",
    "i = 1\n",
    "while i<= n:\n",
    "    print(i)\n",
    "    i+= 1#i=i+1"
   ]
  },
  {
   "cell_type": "code",
   "execution_count": null,
   "metadata": {},
   "outputs": [],
   "source": []
  }
 ],
 "metadata": {
  "kernelspec": {
   "display_name": "Python 3",
   "language": "python",
   "name": "python3"
  },
  "language_info": {
   "codemirror_mode": {
    "name": "ipython",
    "version": 3
   },
   "file_extension": ".py",
   "mimetype": "text/x-python",
   "name": "python",
   "nbconvert_exporter": "python",
   "pygments_lexer": "ipython3",
   "version": "3.7.3"
  }
 },
 "nbformat": 4,
 "nbformat_minor": 2
}
